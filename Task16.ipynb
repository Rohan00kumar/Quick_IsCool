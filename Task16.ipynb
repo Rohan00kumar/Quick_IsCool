{
 "cells": [
  {
   "cell_type": "markdown",
   "metadata": {},
   "source": [
    "Alice and Bob want to exchange a secret message over an insecure channel. They decide to use the Diffie-Hellman Key Exchange protocol to generate a shared secret key. Here are the parameters they have chosen:\n",
    "\n",
    "Prime number p = 23\n",
    "Base number g = 5\n",
    "Alice chooses a private key a = 6, and Bob chooses a private key b = 15.\n",
    "\n",
    "Write a Python function to calculate Alice's and Bob's public key A and B respectively.\n",
    "Write a Python function to calculate the shared secret key S.\n",
    "Calculate the shared secret key S using Alice and Bob's private keys.\n",
    "\n",
    "Now, suppose an attacker, Eve, has intercepted Alice and Bob's public keys A and B. She wants to calculate the shared secret key S. Write a Python function to calculate the shared secret key S using Eve's knowledge of A and B.\n",
    "\n",
    "Note:\n",
    "You can use Python's built-in pow() function to calculate modular exponentiation. For example, pow(a, b, c) calculates a**b % c.\n",
    "\n",
    "You can use Python's built-in random.randint() function to generate random integers.\n",
    "\n",
    "You can use Python's built-in time.time() function to measure the time taken for calculations.\n"
   ]
  },
  {
   "cell_type": "code",
   "execution_count": 1,
   "metadata": {},
   "outputs": [],
   "source": [
    "# Calculate the public key using the private key, base, and prime.\n",
    "def calculate_public_key(private_key, base, prime):\n",
    "    public_key = pow(base, private_key, prime)\n",
    "    return public_key"
   ]
  },
  {
   "cell_type": "code",
   "execution_count": 2,
   "metadata": {},
   "outputs": [],
   "source": [
    "# Calculate the shared secret key using the private key and the other party's public key.\n",
    "def calculate_shared_secret(private_key, other_public_key, prime):\n",
    "    shared_secret = pow(other_public_key, private_key, prime)\n",
    "    return shared_secret\n"
   ]
  },
  {
   "cell_type": "code",
   "execution_count": 3,
   "metadata": {},
   "outputs": [],
   "source": [
    "#  Calculate the shared secret key using intercepted public keys A and B.\n",
    "def calculate_shared_secret_with_eve(A, B, prime):\n",
    "    shared_secret = pow(B, A, prime)\n",
    "    return shared_secret"
   ]
  },
  {
   "cell_type": "code",
   "execution_count": 14,
   "metadata": {},
   "outputs": [],
   "source": [
    "# Given parameters\n",
    "p = 23\n",
    "g = 5\n",
    "alice_private_key = 6\n",
    "bob_private_key = 15"
   ]
  },
  {
   "cell_type": "code",
   "execution_count": 15,
   "metadata": {},
   "outputs": [],
   "source": [
    "# Calculate public keys\n",
    "A = calculate_public_key(alice_private_key, g, p)\n",
    "B = calculate_public_key(bob_private_key, g, p)\n",
    "\n",
    "# Calculate shared secret key between Alice and Bob\n",
    "S = calculate_shared_secret(alice_private_key, B, p)\n",
    "\n",
    "# Calculate shared secret key using intercepted public keys by Eve\n",
    "S_with_eve = calculate_shared_secret_with_eve(A, B, p)"
   ]
  },
  {
   "cell_type": "code",
   "execution_count": 16,
   "metadata": {},
   "outputs": [
    {
     "name": "stdout",
     "output_type": "stream",
     "text": [
      "Alice's public key:  8\n",
      "Bob's public key:  19\n",
      "Shared secret key between Alice and Bob:  2\n",
      "Eve's intercepted public key:  1\n"
     ]
    }
   ],
   "source": [
    "# Function to intercept public key\n",
    "def intercept_public_key(B, Eve_private_key, gap, prime):\n",
    "    return pow(B, Eve_private_key + gap, prime)\n",
    "\n",
    "# Given parameters\n",
    "p = 23\n",
    "g = 5\n",
    "Alice_private_key = 6\n",
    "Bob_private_key = 15\n",
    "\n",
    "# Calculate public keys\n",
    "A = calculate_public_key(Alice_private_key, g, p)\n",
    "B = calculate_public_key(Bob_private_key, g, p)\n",
    "\n",
    "# Calculate shared secret key between Alice and Bob\n",
    "S = calculate_shared_secret(Alice_private_key, B, p)\n",
    "\n",
    "# Man-in-the-middle attack\n",
    "Eve_gap = 10\n",
    "Eve_private_key = 1024\n",
    "intercepted_public_key = intercept_public_key(B, Eve_private_key, Eve_gap, p)\n",
    "\n",
    "print(\"Alice's public key: \", A)\n",
    "print(\"Bob's public key: \", B)\n",
    "print(\"Shared secret key between Alice and Bob: \", S)\n",
    "print(\"Eve's intercepted public key: \", intercepted_public_key)"
   ]
  },
  {
   "cell_type": "code",
   "execution_count": 17,
   "metadata": {},
   "outputs": [
    {
     "name": "stdout",
     "output_type": "stream",
     "text": [
      "Alice's public key (A): 8\n",
      "Bob's public key (B): 19\n",
      "Shared secret key (S) between Alice and Bob: 2\n",
      "Shared secret key (S) calculated by Eve: 9\n"
     ]
    }
   ],
   "source": [
    "print(\"Alice's public key (A):\", A)\n",
    "print(\"Bob's public key (B):\", B)\n",
    "print(\"Shared secret key (S) between Alice and Bob:\", S)\n",
    "print(\"Shared secret key (S) calculated by Eve:\", S_with_eve)"
   ]
  },
  {
   "cell_type": "markdown",
   "metadata": {},
   "source": [
    "Alice and Bob agree on prime number p = 23, base number g = 5, and their private keys (alice_private_key = 6 and bob_private_key = 15).\n",
    "They calculate their public keys (A and B) using the Diffie-Hellman Key Exchange.\n",
    "They compute the shared secret key S using their private keys and each other's public keys.\n",
    "Eve intercepts the public keys (A and B) and tries to perform a Man-in-the-Middle attack by generating a fake public key with a gap value of 1 and her private key as 20.\n",
    "The intercepted public key is recalculated with Eve's fake private key (Eve_pk + gap) to get intercepted_pk = 8.\n",
    "Alice encrypts the message \"Hello Bob\" using the shared secret key S.\n",
    "Eve attempts to decrypt the intercepted message using her fake shared secret key, resulting in \"Gdkkn'Cns\". However, this is not the original message."
   ]
  },
  {
   "cell_type": "code",
   "execution_count": 21,
   "metadata": {},
   "outputs": [
    {
     "name": "stdout",
     "output_type": "stream",
     "text": [
      "Shared secret key between Alice and Bob: 2\n",
      "Message sent to Bob: Hello Bob\n",
      "Eve's intercepted public key: 17\n",
      "\n",
      "\n",
      "Changed shared secret key between Alice and Bob: 9\n",
      "Message sent to Bob with Eve's shared secret key: Qnuux)Kxk\n",
      "Bob thinks the real message is: Hello Bob\n"
     ]
    }
   ],
   "source": [
    "# Man-in-the-middle attack code\n",
    "gap = int(input('Enter gap value for Eve: '))\n",
    "Eve_pk = int(input('Enter Eve private key: '))\n",
    "\n",
    "def eavesdrop(A, B, p, gap):\n",
    "    return pow(B, Eve_pk + gap, p)\n",
    "\n",
    "\n",
    "def encrypt_message(message, key):\n",
    "    encrypted_message = \"\"\n",
    "    for char in message:\n",
    "        encrypted_message += chr(ord(char) + key)\n",
    "    return encrypted_message\n",
    "\n",
    "def decrypt_message(encrypted_message, key):\n",
    "    decrypted_message = \"\"\n",
    "    for char in encrypted_message:\n",
    "        decrypted_message += chr(ord(char) - key)\n",
    "    return decrypted_message\n",
    "\n",
    "intercepted_pk = eavesdrop(A, B, p, gap)\n",
    "\n",
    "# Encrypt message\n",
    "ciphertext = encrypt_message(\"Hello Bob\", S)\n",
    "\n",
    "# Decrypt message\n",
    "decrypted_message = decrypt_message(ciphertext, S)\n",
    "\n",
    "# Output\n",
    "print(\"Shared secret key between Alice and Bob:\", S)\n",
    "print(\"Message sent to Bob:\", \"Hello Bob\")\n",
    "\n",
    "if Eve_pk != intercepted_pk:\n",
    "    print(\"Eve's intercepted public key:\", intercepted_pk)\n",
    "else:\n",
    "    print(\"Eve's intercepted public key:\", intercepted_pk)\n",
    "    print(\"Decrypted message by Eve:\", decrypted_message)\n",
    "    \n",
    "\n",
    "# changed message \n",
    "ciphertext = encrypt_message(\"Hello Bob\", S_with_eve)\n",
    "decrypted_message = decrypt_message(ciphertext, S_with_eve)\n",
    "print(\"\\n\\nChanged shared secret key between Alice and Bob:\", S_with_eve)\n",
    "print(\"Message sent to Bob with Eve's shared secret key:\", ciphertext)\n",
    "print(\"Bob thinks the real message is:\", decrypted_message)"
   ]
  },
  {
   "cell_type": "code",
   "execution_count": 13,
   "metadata": {},
   "outputs": [],
   "source": [
    "# Enter gap value for Eve: 1\n",
    "# Enter Eve private key: 20\n",
    "\n",
    "# Shared secret key between Alice and Bob: 2\n",
    "# Message sent to Bob: Hello Bob\n",
    "# Eve's intercepted public key: 8\n",
    "# Decrypted message by Eve: Gdkkn'Cns"
   ]
  },
  {
   "cell_type": "code",
   "execution_count": 11,
   "metadata": {},
   "outputs": [
    {
     "name": "stdout",
     "output_type": "stream",
     "text": [
      "Alice's private key: 58\n",
      "Bob's private key: 72\n",
      "Shared secret key between Alice and Bob: 6\n",
      "Time taken: 0.000000 seconds\n",
      "Shared secret key using intercepted public keys by Eve: 18\n",
      "Time taken: 0.000000 seconds\n"
     ]
    }
   ],
   "source": [
    "# You can use Python's built-in pow() function to calculate modular exponentiation. For example, pow(a, b, c) calculates a**b % c.\n",
    "# You can use Python's built-in random.randint() function to generate random integers.\n",
    "# You can use Python's built-in time.time() function to measure the time taken for calculations.\n",
    "\n",
    "import time\n",
    "import random\n",
    "def main():\n",
    "    p = 23\n",
    "    g = 5\n",
    "    alice_private_key = random.randint(1, 100)\n",
    "    bob_private_key = random.randint(1, 100)\n",
    "    print(f\"Alice's private key: {alice_private_key}\")\n",
    "    print(f\"Bob's private key: {bob_private_key}\")\n",
    "\n",
    "    start_time = time.time()\n",
    "    A = calculate_public_key(alice_private_key, g, p)\n",
    "    B = calculate_public_key(bob_private_key, g, p)\n",
    "    S = calculate_shared_secret(alice_private_key, B, p)\n",
    "    end_time = time.time()\n",
    "    print(f\"Shared secret key between Alice and Bob: {S}\")\n",
    "    print(f\"Time taken: {end_time - start_time:.6f} seconds\")\n",
    "\n",
    "    start_time = time.time()\n",
    "    S_with_eve = calculate_shared_secret_with_eve(A, B, p)\n",
    "    end_time = time.time()\n",
    "    print(f\"Shared secret key using intercepted public keys by Eve: {S_with_eve}\")\n",
    "    print(f\"Time taken: {end_time - start_time:.6f} seconds\")\n",
    "\n",
    "def calculate_public_key(alice_private_key, g, p):\n",
    "    public_key = pow(g, alice_private_key, p)\n",
    "    return public_key\n",
    "\n",
    "def calculate_shared_secret(alice_private_key, B, p):\n",
    "    shared_secret = pow(B, alice_private_key, p)\n",
    "    return shared_secret\n",
    "\n",
    "def calculate_shared_secret_with_eve(A, B, p):\n",
    "    shared_secret = pow(B, A, p)\n",
    "    return shared_secret\n",
    "\n",
    "if __name__ == \"__main__\":\n",
    "    main()"
   ]
  }
 ],
 "metadata": {
  "kernelspec": {
   "display_name": "Python 3",
   "language": "python",
   "name": "python3"
  },
  "language_info": {
   "codemirror_mode": {
    "name": "ipython",
    "version": 3
   },
   "file_extension": ".py",
   "mimetype": "text/x-python",
   "name": "python",
   "nbconvert_exporter": "python",
   "pygments_lexer": "ipython3",
   "version": "3.9.13"
  }
 },
 "nbformat": 4,
 "nbformat_minor": 2
}
