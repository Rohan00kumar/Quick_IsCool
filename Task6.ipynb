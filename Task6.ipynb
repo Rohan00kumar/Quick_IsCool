{
 "cells": [
  {
   "cell_type": "markdown",
   "metadata": {},
   "source": [
    "A. \n",
    "Write a Python function that simulates the classical Deutsch-Josza algorithm to determine whether a given binary function is constant or balanced. The function should take as input a classical oracle representing the binary function and apply the necessary operations to determine its nature (constant or balanced). The goal is to minimize the number of function evaluations required to make the determination.\n",
    "\n",
    "B.\n",
    "Write a Python function that implements the quantum Deutsch-Josza algorithm using a quantum circuit to solve the same binary function evaluation problem. The function should encode the function into qubits, apply quantum gates to perform the computation, and measure the final state to determine whether the function is constant or balanced."
   ]
  },
  {
   "cell_type": "code",
   "execution_count": 45,
   "metadata": {},
   "outputs": [
    {
     "name": "stdout",
     "output_type": "stream",
     "text": [
      "The function is constant.\n",
      "The function is neither constant nor balanced.\n",
      "The function is neither constant nor balanced.\n"
     ]
    },
    {
     "data": {
      "text/plain": [
       "(False, False)"
      ]
     },
     "execution_count": 45,
     "metadata": {},
     "output_type": "execute_result"
    }
   ],
   "source": [
    "# A. Classical Deutsch-Josza Algorithm:\n",
    "def classical_deutsch_josza(oracle):\n",
    "    n = len(oracle)\n",
    "    is_constant = True\n",
    "    is_balanced = True\n",
    "\n",
    "    # Check if the function is constant\n",
    "    for i in range(n):\n",
    "        for j in range(i+1, n):\n",
    "            if oracle[i] != oracle[j]:\n",
    "                is_constant = False\n",
    "                break\n",
    "\n",
    "    # Check if the function is balanced\n",
    "    if not is_constant:\n",
    "        for i in range(n):\n",
    "            if oracle[i] != oracle[(i+1) % n]:\n",
    "                is_balanced = False\n",
    "                break\n",
    "\n",
    "    if is_constant:\n",
    "        print(\"The function is constant.\")\n",
    "    elif is_balanced:\n",
    "        print(\"The function is balanced.\")\n",
    "    else:\n",
    "        print(\"The function is neither constant nor balanced.\")\n",
    "        \n",
    "    return is_constant, is_balanced\n",
    "\n",
    "# Example usage:\n",
    "oracle_constant = [0, 0, 0, 0]  # Constant function\n",
    "oracle_balanced = [1, 0, 0, 1]  # Balanced function\n",
    "oracle_random = [0, 1, 0, 1]    # Neither constant nor balanced\n",
    "\n",
    "\n",
    "classical_deutsch_josza(oracle_constant)\n",
    "classical_deutsch_josza(oracle_balanced)\n",
    "classical_deutsch_josza(oracle_random)"
   ]
  },
  {
   "cell_type": "code",
   "execution_count": 1,
   "metadata": {},
   "outputs": [],
   "source": [
    "import numpy as np\n",
    "from math import sqrt"
   ]
  },
  {
   "cell_type": "code",
   "execution_count": 3,
   "metadata": {},
   "outputs": [],
   "source": [
    "def getTensor(matrices):\n",
    "    product = matrices[0]\n",
    "    for matrix in matrices[1:]:\n",
    "        product = np.kron(product,matrix)  ## np.kron stands for Kronecker product, the official name for tensor product\n",
    "    return product"
   ]
  },
  {
   "cell_type": "code",
   "execution_count": 4,
   "metadata": {},
   "outputs": [],
   "source": [
    "def U(n, f_map):\n",
    "    num_qubits = n + 1\n",
    "    U = np.zeros((2**num_qubits, 2**num_qubits)) # Start with a matrix of zeroes.\n",
    "    \n",
    "    # Quantum state looks like IN-IN-...-IN-ANCILLA\n",
    "    for input_state in range(2**num_qubits): # For each possible input\n",
    "        input_string = input_state >> 1 # remove ANCILLA\n",
    "        output_qubit = (input_state & 1) ^ (f_map[input_string]) # remove IN, XOR with f(IN)\n",
    "        output_state = (input_string << 1) + output_qubit # the full state, with new OUT\n",
    "        U[input_state, output_state] = 1 # set that part of U to 1"
   ]
  },
  {
   "cell_type": "code",
   "execution_count": 7,
   "metadata": {},
   "outputs": [],
   "source": [
    "def U(n, f_map):\n",
    "    num_qubits = n + 1\n",
    "    U = np.zeros((2**num_qubits, 2**num_qubits)) # Start with a matrix of zeroes.\n",
    "    \n",
    "    # Quantum state looks like IN-IN-...-IN-ANCILLA\n",
    "    for input_state in range(2**num_qubits): # For each possible input\n",
    "        input_string = input_state >> 1 # remove ANCILLA\n",
    "        output_qubit = (input_state & 1) ^ (f_map[input_string]) # remove IN, XOR with f(IN)\n",
    "        output_state = (input_string << 1) + output_qubit # the full state, with new OUT\n",
    "        U[input_state, output_state] = 1 # set that part of U to 1\n",
    "\n",
    "    return U"
   ]
  },
  {
   "cell_type": "code",
   "execution_count": 8,
   "metadata": {},
   "outputs": [],
   "source": [
    "def measure(n, state):\n",
    "    measurement = np.zeros(2**n)  # Initialize measurement result for n qubits in the first register\n",
    "    for index, value in enumerate(state):\n",
    "        measurement[index >> 1] += value * value  ## As the ancilla qubit is discarded, probabilities of the same kind, ie 100 and 101 will be combined\n",
    "\n",
    "    # Last step: Determine the type of function f\n",
    "    # f is constant if the probability of measuring |0> is positive\n",
    "    if (abs(measurement[0]) > 1e-10): \n",
    "        print(\"The function is constant.\")\n",
    "    else:\n",
    "        print(\"The function is balanced.\")"
   ]
  },
  {
   "cell_type": "code",
   "execution_count": 9,
   "metadata": {},
   "outputs": [],
   "source": [
    "def Deutsch_Jozsa(n, f_map):\n",
    "    num_qubits = n + 1  # Plus one qubit and the second register, can be called as ancilla qubit\n",
    "    state_0 = np.array([[1],[0]])  # Standard state |0> as a column vector\n",
    "    I_gate = np.array([[1,0], [0,1]])  # Identity gate\n",
    "    X_gate = np.array([[0,1], [1,0]])  # NOT gate\n",
    "    H_gate = np.array([[1,1], [1,-1]])/sqrt(2)  # Hadamard gate\n",
    "    \n",
    "    ancilla = np.dot(X_gate, state_0)  # Create state |1> assigned to the ancilla\n",
    "    \n",
    "    # Create the a Hadamard transformation for all qubits and the state |ψ_0> \n",
    "    listStates = []\n",
    "    listGates_H = []\n",
    "    for i in range(n):\n",
    "        listStates.append(state_0)\n",
    "        listGates_H.append(H_gate)\n",
    "    listStates.append(ancilla)\n",
    "    listGates_H.append(H_gate)\n",
    "    psi_0 = getTensor(listStates)\n",
    "    composite_H = getTensor(listGates_H)\n",
    "    \n",
    "    # |ψ_1> is the dot product of the Hadamard transformation and |ψ_0>  \n",
    "    psi_1 = np.dot(composite_H, psi_0)\n",
    "\n",
    "    # Apply the oracle to |ψ_1>\n",
    "    psi_2 = np.dot(U(n, f_map), psi_1)\n",
    "\n",
    "    # H on all again\n",
    "    psi_3 = np.dot(composite_H, psi_2)\n",
    "\n",
    "    measure(n, psi_3)"
   ]
  },
  {
   "cell_type": "code",
   "execution_count": 11,
   "metadata": {},
   "outputs": [
    {
     "name": "stdout",
     "output_type": "stream",
     "text": [
      "The function is balanced.\n",
      "The function is constant.\n",
      "The function is balanced.\n"
     ]
    }
   ],
   "source": [
    "def main():\n",
    "    n = [2,3,3]  # Input the number of qubits\n",
    "    f_map = [[0,0,1,1],\n",
    "             [1,1,1,1,1,1,1,1],\n",
    "             [1,0,0,1,1,0,1,0]]  # Input the mapping functions\n",
    "    for index, value in enumerate(n):\n",
    "        Deutsch_Jozsa(n[index], f_map[index])  # Algorithm executed here\n",
    "        \n",
    "main()"
   ]
  },
  {
   "cell_type": "code",
   "execution_count": 18,
   "metadata": {},
   "outputs": [
    {
     "ename": "ImportError",
     "evalue": "Qiskit is installed in an invalid environment that has both Qiskit >=1.0 and an earlier version. You should create a new virtual environment, and ensure that you do not mix dependencies between Qiskit <1.0 and >=1.0. Any packages that depend on 'qiskit-terra' are not compatible with Qiskit 1.0 and will need to be updated. Qiskit unfortunately cannot enforce this requirement during environment resolution. See https://qisk.it/packaging-1-0 for more detail.",
     "output_type": "error",
     "traceback": [
      "\u001b[1;31m---------------------------------------------------------------------------\u001b[0m",
      "\u001b[1;31mImportError\u001b[0m                               Traceback (most recent call last)",
      "Cell \u001b[1;32mIn[18], line 1\u001b[0m\n\u001b[1;32m----> 1\u001b[0m \u001b[39mfrom\u001b[39;00m \u001b[39mqiskit\u001b[39;00m \u001b[39mimport\u001b[39;00m QuantumCircuit\n\u001b[0;32m      2\u001b[0m \u001b[39m# Create a circuit with a register of three qubits\u001b[39;00m\n\u001b[0;32m      3\u001b[0m circ \u001b[39m=\u001b[39m QuantumCircuit(\u001b[39m3\u001b[39m)\n",
      "File \u001b[1;32mc:\\Users\\hp\\AppData\\Local\\Programs\\Python\\Python39\\lib\\site-packages\\qiskit\\__init__.py:36\u001b[0m\n\u001b[0;32m     34\u001b[0m     _suppress_error \u001b[39m=\u001b[39m os\u001b[39m.\u001b[39menviron\u001b[39m.\u001b[39mget(\u001b[39m\"\u001b[39m\u001b[39mQISKIT_SUPPRESS_1_0_IMPORT_ERROR\u001b[39m\u001b[39m\"\u001b[39m, \u001b[39mFalse\u001b[39;00m) \u001b[39m==\u001b[39m \u001b[39m\"\u001b[39m\u001b[39m1\u001b[39m\u001b[39m\"\u001b[39m\n\u001b[0;32m     35\u001b[0m     \u001b[39mif\u001b[39;00m \u001b[39mnot\u001b[39;00m _suppress_error \u001b[39mand\u001b[39;00m _has_tools:\n\u001b[1;32m---> 36\u001b[0m         \u001b[39mraise\u001b[39;00m \u001b[39mImportError\u001b[39;00m(\n\u001b[0;32m     37\u001b[0m             \u001b[39m\"\u001b[39m\u001b[39mQiskit is installed in an invalid environment that has both Qiskit >=1.0\u001b[39m\u001b[39m\"\u001b[39m\n\u001b[0;32m     38\u001b[0m             \u001b[39m\"\u001b[39m\u001b[39m and an earlier version.\u001b[39m\u001b[39m\"\u001b[39m\n\u001b[0;32m     39\u001b[0m             \u001b[39m\"\u001b[39m\u001b[39m You should create a new virtual environment, and ensure that you do not mix\u001b[39m\u001b[39m\"\u001b[39m\n\u001b[0;32m     40\u001b[0m             \u001b[39m\"\u001b[39m\u001b[39m dependencies between Qiskit <1.0 and >=1.0.\u001b[39m\u001b[39m\"\u001b[39m\n\u001b[0;32m     41\u001b[0m             \u001b[39m\"\u001b[39m\u001b[39m Any packages that depend on \u001b[39m\u001b[39m'\u001b[39m\u001b[39mqiskit-terra\u001b[39m\u001b[39m'\u001b[39m\u001b[39m are not compatible with Qiskit 1.0 and\u001b[39m\u001b[39m\"\u001b[39m\n\u001b[0;32m     42\u001b[0m             \u001b[39m\"\u001b[39m\u001b[39m will need to be updated.\u001b[39m\u001b[39m\"\u001b[39m\n\u001b[0;32m     43\u001b[0m             \u001b[39m\"\u001b[39m\u001b[39m Qiskit unfortunately cannot enforce this requirement during environment resolution.\u001b[39m\u001b[39m\"\u001b[39m\n\u001b[0;32m     44\u001b[0m             \u001b[39m\"\u001b[39m\u001b[39m See https://qisk.it/packaging-1-0 for more detail.\u001b[39m\u001b[39m\"\u001b[39m\n\u001b[0;32m     45\u001b[0m         )\n\u001b[0;32m     47\u001b[0m \u001b[39mimport\u001b[39;00m \u001b[39mqiskit\u001b[39;00m\u001b[39m.\u001b[39;00m\u001b[39m_accelerate\u001b[39;00m\n\u001b[0;32m     50\u001b[0m \u001b[39m# Globally define compiled submodules. The normal import mechanism will not find compiled submodules\u001b[39;00m\n\u001b[0;32m     51\u001b[0m \u001b[39m# in _accelerate because it relies on file paths, but PyO3 generates only one shared library file.\u001b[39;00m\n\u001b[0;32m     52\u001b[0m \u001b[39m# We manually define them on import so people can directly import qiskit._accelerate.* submodules\u001b[39;00m\n\u001b[0;32m     53\u001b[0m \u001b[39m# and not have to rely on attribute access.  No action needed for top-level extension packages.\u001b[39;00m\n",
      "\u001b[1;31mImportError\u001b[0m: Qiskit is installed in an invalid environment that has both Qiskit >=1.0 and an earlier version. You should create a new virtual environment, and ensure that you do not mix dependencies between Qiskit <1.0 and >=1.0. Any packages that depend on 'qiskit-terra' are not compatible with Qiskit 1.0 and will need to be updated. Qiskit unfortunately cannot enforce this requirement during environment resolution. See https://qisk.it/packaging-1-0 for more detail."
     ]
    }
   ],
   "source": [
    "from qiskit import QuantumCircuit\n",
    "# Create a circuit with a register of three qubits\n",
    "circ = QuantumCircuit(3)\n",
    "# H gate on qubit 0, putting this qubit in a superposition of |0> + |1>.\n",
    "circ.h(0)\n",
    "# A CX (CNOT) gate on control qubit 0 and target qubit 1 generating a Bell state.\n",
    "circ.cx(0, 1)\n",
    "# CX (CNOT) gate on control qubit 0 and target qubit 2 resulting in a GHZ state.\n",
    "circ.cx(0, 2)\n",
    "# Draw the circuit\n",
    "circ.draw('mpl')"
   ]
  },
  {
   "cell_type": "code",
   "execution_count": null,
   "metadata": {},
   "outputs": [],
   "source": []
  }
 ],
 "metadata": {
  "kernelspec": {
   "display_name": "Python 3",
   "language": "python",
   "name": "python3"
  },
  "language_info": {
   "codemirror_mode": {
    "name": "ipython",
    "version": 3
   },
   "file_extension": ".py",
   "mimetype": "text/x-python",
   "name": "python",
   "nbconvert_exporter": "python",
   "pygments_lexer": "ipython3",
   "version": "3.9.13"
  }
 },
 "nbformat": 4,
 "nbformat_minor": 2
}
