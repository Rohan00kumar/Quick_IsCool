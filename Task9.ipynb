{
 "cells": [
  {
   "cell_type": "markdown",
   "metadata": {},
   "source": [
    "You are given a large composite number N that is a product of two prime numbers, p and q. Your task is to factorize N into its prime factors using Shor's Algorithm for quantum computers and a classical algorithm (such as Pollard's rho algorithm) for comparison.\n",
    "\n",
    "Input:\n",
    "A large composite number N = p * q, where p and q are prime numbers.\n",
    "\n",
    "Output:\n",
    "The prime factors p and q of the input number N.\n",
    "\n",
    "Sample Input:\n",
    "N = 35 (p = 5, q = 7)\n",
    "\n",
    "Sample Output:\n",
    "p = 5, q = 7\n",
    "\n",
    "Instructions:\n",
    "\n",
    "Implement Shor's Algorithm in a quantum programming language (such as Qiskit for IBM Quantum computers) to factorize the input number N.\n",
    "\n",
    "Implement a classical algorithm (such as Pollard's rho algorithm) in a programming language of your choice to factorize the input number N.\n",
    "\n",
    "Compare the efficiency of both algorithms in terms of the number of operations and time taken to factorize the input number N.\n",
    "\n",
    "Analyze and discuss the results to understand the advantages and limitations of quantum computing compared to classical computing for factoring large numbers."
   ]
  },
  {
   "cell_type": "code",
   "execution_count": 7,
   "metadata": {},
   "outputs": [
    {
     "name": "stdout",
     "output_type": "stream",
     "text": [
      "One of the factors of 35 is: 7\n"
     ]
    }
   ],
   "source": [
    "from math import gcd\n",
    "def pollard_rho(N):\n",
    "    # Initialize variables\n",
    "    x = 2\n",
    "    y = 2\n",
    "    d = 1\n",
    "    \n",
    "    # Define the function f(x) = x^2 + 1 mod N\n",
    "    def f(x):\n",
    "        return (x**2 + 1) % N\n",
    "    \n",
    "    # Main loop of Pollard's rho algorithm\n",
    "    while d == 1:\n",
    "        x = f(x)\n",
    "        y = f(f(y))\n",
    "        d = gcd(abs(x - y), N)\n",
    "    \n",
    "    # If d is a non-trivial factor, return it\n",
    "    if d != N:\n",
    "        return d\n",
    "    \n",
    "    # If d is equal to N, repeat the process with a different starting point\n",
    "    else:\n",
    "        return pollard_rho(N)\n",
    "\n",
    "# Example usage\n",
    "N = 35\n",
    "factor = pollard_rho(N)\n",
    "if factor:\n",
    "    print(\"One of the factors of\", N, \"is:\", factor)\n",
    "else:\n",
    "    print(\"Failed to find a factor.\")"
   ]
  },
  {
   "cell_type": "code",
   "execution_count": 8,
   "metadata": {},
   "outputs": [
    {
     "name": "stdout",
     "output_type": "stream",
     "text": [
      "Pollard's rho Algorithm:\n",
      "p = 7\n",
      "q = 5\n"
     ]
    }
   ],
   "source": [
    "def pollards_rho_algorithm(N):\n",
    "    def f(x):\n",
    "        return (x ** 2 + 1) % N\n",
    "\n",
    "    x, y, d = 2, 2, 1\n",
    "    while d == 1:\n",
    "        x = f(x)\n",
    "        y = f(f(y))\n",
    "        d = gcd(abs(x - y), N)\n",
    "    \n",
    "    if d == N:\n",
    "        return None, None\n",
    "    else:\n",
    "        return d, N // d\n",
    "\n",
    "# Sample Input\n",
    "N = 35\n",
    "p, q = pollards_rho_algorithm(N)\n",
    "print(\"Pollard's rho Algorithm:\")\n",
    "print(\"p =\", p)\n",
    "print(\"q =\", q)"
   ]
  },
  {
   "cell_type": "markdown",
   "metadata": {},
   "source": [
    "Here some error phasing on importing qiskit liberary I can try to implement this part"
   ]
  },
  {
   "cell_type": "code",
   "execution_count": null,
   "metadata": {},
   "outputs": [],
   "source": [
    "from qiskit import QuantumCircuit, Aer, transpile, assemble\n",
    "from qiskit.algorithms import Shor\n",
    "from math import gcd\n",
    "\n",
    "def shors_algorithm(N):\n",
    "    # Initialize Shor's algorithm with the given N\n",
    "    shor = Shor(N)\n",
    "    # Use Shor's algorithm to find the factors\n",
    "    factors = shor.factorize()\n",
    "    return factors\n",
    "\n",
    "# Sample Input\n",
    "N = 35\n",
    "p, q = shors_algorithm(N)\n",
    "print(\"Shor's Algorithm:\")\n",
    "print(\"p =\", p)\n",
    "print(\"q =\", q)"
   ]
  },
  {
   "cell_type": "code",
   "execution_count": null,
   "metadata": {},
   "outputs": [],
   "source": [
    "# compare the results of Pollard's rho algorithm and Shor's algorithm\n",
    "N = 35\n",
    "p1, q1 = pollards_rho_algorithm(N)\n",
    "p2, q2 = shors_algorithm(N)\n",
    "if p1 and q1:\n",
    "    print(\"Pollard's rho Algorithm:\")\n",
    "    print(\"p =\", p1)\n",
    "    print(\"q =\", q1)\n",
    "if p2 and q2:\n",
    "    print(\"Shor's Algorithm:\")\n",
    "    print(\"p =\", p2)\n",
    "    print(\"q =\", q2)\n",
    "    if p1 == p2 and q1 == q2:\n",
    "        print(\"The results of Pollard's rho algorithm and Shor's algorithm are the same.\")\n",
    "    else:\n",
    "        print(\"The results of Pollard's rho algorithm and Shor's algorithm are different.\") \n",
    "else:\n",
    "    print(\"Both algorithms failed to find the factors.\")"
   ]
  },
  {
   "cell_type": "markdown",
   "metadata": {},
   "source": [
    "To compare the efficiency, you can measure the number of operations and time taken by both algorithms for different input numbers. You can use timing libraries in Python (like timeit) to measure the execution time and count the number of iterations in Pollard's rho algorithm. Similarly, you can analyze the number of qubits and gates used in Shor's algorithm to estimate the number of quantum operations."
   ]
  }
 ],
 "metadata": {
  "kernelspec": {
   "display_name": "Python 3",
   "language": "python",
   "name": "python3"
  },
  "language_info": {
   "codemirror_mode": {
    "name": "ipython",
    "version": 3
   },
   "file_extension": ".py",
   "mimetype": "text/x-python",
   "name": "python",
   "nbconvert_exporter": "python",
   "pygments_lexer": "ipython3",
   "version": "3.9.13"
  }
 },
 "nbformat": 4,
 "nbformat_minor": 2
}
